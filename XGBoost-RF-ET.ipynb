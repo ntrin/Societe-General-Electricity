{
  "nbformat": 4,
  "nbformat_minor": 0,
  "metadata": {
    "colab": {
      "name": "COPIE de Challenge Société Générale TANG.ipynb",
      "provenance": [],
      "collapsed_sections": []
    },
    "kernelspec": {
      "display_name": "Python 3",
      "language": "python",
      "name": "python3"
    },
    "language_info": {
      "codemirror_mode": {
        "name": "ipython",
        "version": 3
      },
      "file_extension": ".py",
      "mimetype": "text/x-python",
      "name": "python",
      "nbconvert_exporter": "python",
      "pygments_lexer": "ipython3",
      "version": "3.7.6"
    },
    "accelerator": "GPU"
  },
  "cells": [
    {
      "cell_type": "markdown",
      "metadata": {
        "id": "6G3k_Yvo2HxV"
      },
      "source": [
        "\n",
        "# Société Générale Electricity Data Science Challenge\n",
        "\n",
        "We can first start by analyzing the data and its properties before proceeding to pre-processing and finally to training and testing some machine learning algorithms.\n",
        "Because of the tabular nature of the data, tree methods immediately come to mind as the best algorithms. They are relatively computationally cheap with good performance compared to other algorithms on similar data.\n"
      ]
    },
    {
      "cell_type": "code",
      "metadata": {
        "colab": {
          "base_uri": "https://localhost:8080/"
        },
        "id": "YxNBU8fYADiQ",
        "outputId": "754e8d05-d563-49aa-864b-8ce74bcfa323"
      },
      "source": [
        "from google.colab import drive\n",
        "drive.mount('/content/drive')\n",
        "\n",
        "import os \n",
        "path = \"/content/drive/MyDrive/Electricity\""
      ],
      "execution_count": 3,
      "outputs": [
        {
          "output_type": "stream",
          "text": [
            "Mounted at /content/drive\n"
          ],
          "name": "stdout"
        }
      ]
    },
    {
      "cell_type": "code",
      "metadata": {
        "colab": {
          "base_uri": "https://localhost:8080/"
        },
        "id": "CZx7p5EUVXiH",
        "outputId": "d717752c-5488-46c9-a9d6-60efa4bcec7c"
      },
      "source": [
        "import numpy as np\n",
        "import pandas as pd\n",
        "from sklearn.model_selection import train_test_split\n",
        "\n",
        "X = pd.read_csv(os.path.join(path, \"training_inputs.csv\"), header=0, sep=\";\")\n",
        "X.set_index(\"ID\", inplace=True)\n",
        "y = pd.read_csv(os.path.join(path, \"training_outputs.csv\"), header=0, sep=\";\")\n",
        "y.set_index(\"ID\", inplace=True)\n",
        "\n",
        "pd.set_option('display.max_rows', 120)\n",
        "\n",
        "print(X)\n",
        "print(y)"
      ],
      "execution_count": 4,
      "outputs": [
        {
          "output_type": "stream",
          "text": [
            "       COD_INSEE     COD_IRIS  C1  C2 C3  ...    Q71    Q72    Q73    Q74    Q75\n",
            "ID                                        ...                                   \n",
            "0        92025.0  920250102.0  EA  RA  C  ...  false  false    NaN    NaN    NaN\n",
            "1        17359.0  173590000.0  EA  RA  C  ...  false  false   True  False  False\n",
            "2        48156.0  481560000.0  EA  RC  B  ...  false  false    NaN    NaN    NaN\n",
            "3        82125.0  821250000.0  EA  RA  C  ...  false  false    NaN    NaN    NaN\n",
            "4        64422.0  644220102.0  EA  RA  B  ...  false  false    NaN    NaN    NaN\n",
            "...          ...          ...  ..  .. ..  ...    ...    ...    ...    ...    ...\n",
            "85524        NaN          NaN  EA  RA  C  ...   true   true    NaN    NaN    NaN\n",
            "85525    74158.0  741580000.0  EA  RA  C  ...  false  false  False  False  False\n",
            "85526    84007.0  840070114.0  EA  RA  B  ...  false  false    NaN    NaN    NaN\n",
            "85527    83130.0  831300105.0  EA  RA  C  ...  false  false    NaN    NaN    NaN\n",
            "85528    33281.0  332810301.0  EA  RA  B  ...  False  false  False  False  False\n",
            "\n",
            "[85529 rows x 108 columns]\n",
            "       TARGET\n",
            "ID           \n",
            "0           0\n",
            "1           0\n",
            "2           0\n",
            "3           1\n",
            "4           0\n",
            "...       ...\n",
            "85524       0\n",
            "85525       1\n",
            "85526       0\n",
            "85527       1\n",
            "85528       0\n",
            "\n",
            "[85529 rows x 1 columns]\n"
          ],
          "name": "stdout"
        }
      ]
    },
    {
      "cell_type": "markdown",
      "metadata": {
        "id": "gOFkPwfGbIPd"
      },
      "source": [
        "## Statistical Analysis\n",
        "The data is tabular and there are numbers, booleans, strings and dates."
      ]
    },
    {
      "cell_type": "code",
      "metadata": {
        "colab": {
          "base_uri": "https://localhost:8080/"
        },
        "id": "N1DtDJIdbDf8",
        "outputId": "eb10986d-49fa-4629-95eb-ff627b85e973"
      },
      "source": [
        "ratio_shallow_rows = (X.shape[0] - X.dropna().shape[0]) / X.shape[0]\n",
        "print(f\"The percentage of rows with missing values is {100*ratio_shallow_rows}%.\")"
      ],
      "execution_count": 5,
      "outputs": [
        {
          "output_type": "stream",
          "text": [
            "The percentage of rows with missing values is 100.0%.\n"
          ],
          "name": "stdout"
        }
      ]
    },
    {
      "cell_type": "code",
      "metadata": {
        "colab": {
          "base_uri": "https://localhost:8080/"
        },
        "id": "gudyD_k0bDd2",
        "outputId": "65099c08-d5db-4972-d866-57fdd470b769"
      },
      "source": [
        "ratio_shallow_rows = (X.shape[0] - X.dropna().shape[0]) / X.shape[0]\n",
        "print(f\"The percentage of rows with missing values is {100*ratio_shallow_rows}%.\\n\\n\")\n",
        "\n",
        "percent_missing = X.isnull().sum() * 100 / len(X)\n",
        "pd.set_option('display.max_rows', 120)\n",
        "print(\"Percent missing per column\\n\", percent_missing)"
      ],
      "execution_count": 6,
      "outputs": [
        {
          "output_type": "stream",
          "text": [
            "The percentage of rows with missing values is 100.0%.\n",
            "\n",
            "\n",
            "Percent missing per column\n",
            " COD_INSEE     2.077658\n",
            "COD_IRIS      2.019198\n",
            "C1            0.000000\n",
            "C2            0.000000\n",
            "C3            0.000000\n",
            "C4            0.000000\n",
            "C5            0.000000\n",
            "C6            0.000000\n",
            "C7            0.000000\n",
            "C8            0.000000\n",
            "C9            0.000000\n",
            "C10           0.000000\n",
            "C11           0.000000\n",
            "C12           0.000000\n",
            "C13           0.000000\n",
            "C14           0.000000\n",
            "C15           0.000000\n",
            "C16           0.000000\n",
            "C17           0.000000\n",
            "C18           0.000000\n",
            "C19           0.000000\n",
            "S1           31.405722\n",
            "S2            0.000000\n",
            "S3            0.000000\n",
            "S4            0.000000\n",
            "S5            0.000000\n",
            "S6           31.405722\n",
            "S7           31.405722\n",
            "S8            0.000000\n",
            "S9            0.000000\n",
            "S10           0.000000\n",
            "S11           0.000000\n",
            "S12           0.000000\n",
            "Q1            0.000000\n",
            "Q2            0.009354\n",
            "Q3            0.002338\n",
            "Q4            0.002338\n",
            "Q5            0.000000\n",
            "Q6           67.807410\n",
            "Q7           67.646062\n",
            "Q8            0.862865\n",
            "Q9            0.879234\n",
            "Q10           0.001169\n",
            "Q11           0.909633\n",
            "Q12           0.600966\n",
            "Q13           1.194916\n",
            "Q14           1.846157\n",
            "Q15          76.543628\n",
            "Q16           0.865204\n",
            "Q17          89.762537\n",
            "Q18          90.053666\n",
            "Q19           0.043260\n",
            "Q20           0.893264\n",
            "Q21           0.851173\n",
            "Q22           0.893264\n",
            "Q23           0.851173\n",
            "Q24           0.865204\n",
            "Q25           0.851173\n",
            "Q26          15.854272\n",
            "Q27           0.865204\n",
            "Q28           1.887079\n",
            "Q29           0.977446\n",
            "Q30           0.896772\n",
            "Q31           0.896772\n",
            "Q32           1.004338\n",
            "Q33           0.899110\n",
            "Q34           0.095874\n",
            "Q35          24.507477\n",
            "Q36           0.894433\n",
            "Q37          98.436788\n",
            "Q38          90.231384\n",
            "Q39          90.231384\n",
            "Q40          90.231384\n",
            "Q41           0.961078\n",
            "Q42           0.937694\n",
            "Q43           0.994984\n",
            "Q44           0.807913\n",
            "Q45           0.712039\n",
            "Q46           0.901449\n",
            "Q47           0.799729\n",
            "Q48           0.894433\n",
            "Q49           0.978615\n",
            "Q50           0.982123\n",
            "Q51           0.902618\n",
            "Q52          78.691438\n",
            "Q53           0.367127\n",
            "Q54          36.708017\n",
            "Q55          36.688141\n",
            "Q56          36.712694\n",
            "Q57          36.791030\n",
            "Q58           0.678133\n",
            "Q59           0.688655\n",
            "Q60           0.688655\n",
            "Q61           0.678133\n",
            "Q62           0.068982\n",
            "Q63           0.851173\n",
            "Q64           0.734254\n",
            "Q65           0.956401\n",
            "Q66           0.948216\n",
            "Q67           0.944709\n",
            "Q68           0.874557\n",
            "Q69           0.867542\n",
            "Q70           0.923663\n",
            "Q71           0.851173\n",
            "Q72           0.937694\n",
            "Q73          39.588911\n",
            "Q74          39.588911\n",
            "Q75          39.588911\n",
            "dtype: float64\n"
          ],
          "name": "stdout"
        }
      ]
    },
    {
      "cell_type": "code",
      "metadata": {
        "colab": {
          "base_uri": "https://localhost:8080/"
        },
        "id": "1A_HkoOnbDbj",
        "outputId": "8be9beaa-d26b-419a-94b4-218b67b6e4f7"
      },
      "source": [
        "ratio_pos_labels = y[y['TARGET'] == 1].shape[0] / y.shape[0]\n",
        "print(f\"Percent of class 1 : {100*ratio_pos_labels:.3f}%.\")"
      ],
      "execution_count": 7,
      "outputs": [
        {
          "output_type": "stream",
          "text": [
            "Percent of class 1 : 19.360%.\n"
          ],
          "name": "stdout"
        }
      ]
    },
    {
      "cell_type": "markdown",
      "metadata": {
        "id": "z_KpprIQbR6V"
      },
      "source": [
        "There is also an imbalance of the labels in the dataset will less than one fifth being positive and the rest being negative. While not an extreme imbalance, this cannot be ignored. We can proceed by using well fitting metrics to test performance or by training with balanced training and validation sets."
      ]
    },
    {
      "cell_type": "markdown",
      "metadata": {
        "id": "0wvXzZpSNhCz"
      },
      "source": [
        "## Preprocessing\n",
        "- Numbers:\n",
        "    Numbers can remain numbers and trees don't require normalization but we can use the StandardScaler anyway. For some columns, they can be categorized because they do not refer to quantites such as contract references. Area codes are interesting in that similar numbers may refer to the same area.\n",
        "- Booleans\n",
        "    Changed to 0 and 1\n",
        "- Strings:\n",
        "    One Hot encoding\n",
        "- Dates:\n",
        "    Should be changed to number of days from a certain time. However, there could be correlations with the seasons that the date is in."
      ]
    },
    {
      "cell_type": "code",
      "metadata": {
        "colab": {
          "base_uri": "https://localhost:8080/"
        },
        "id": "acnx3gzXNdUv",
        "outputId": "5d9bad33-1b09-496e-ce04-9465da134947"
      },
      "source": [
        "import re\n",
        "from datetime import date\n",
        "\n",
        "DROP_INSEE_IRIS = True\n",
        "DROP_CORRELATED = True\n",
        "ADD_SEASONALITY = False\n",
        "ONE_HOT = True\n",
        "CORR_THRESHOLD = 1.0\n",
        "\n",
        "def convert_date(s):\n",
        "    ref_date = date(2011, 1, 1)\n",
        "    pattern = re.compile(\"^\\d{4}\\-(0[1-9]|1[012])\\-(0[1-9]|[12][0-9]|3[01])$\")\n",
        "    if isinstance(s, str) and pattern.match(s):\n",
        "        curr_date = date(int(s[0:4]), int(s[5:7]), int(s[8:10]))\n",
        "        return (curr_date-ref_date).days\n",
        "    else:\n",
        "        return s\n",
        "\n",
        "def get_season(month):\n",
        "    dic = {1:'winter',2:'winter',3:'spring',4:'spring',5:'spring',6:'summer',7:'summer',8:'summer',9:'fall',10:'fall',11:'fall', 12:'winter'}\n",
        "    if month in dic:\n",
        "        return dic[month]\n",
        "\n",
        "# Clean the boolean values\n",
        "X = X.applymap(lambda x: x.strip().lower() if isinstance(x, str) else x)\n",
        "X = X.applymap(lambda x: 1 if isinstance(x, str) and x == \"true\" else x)\n",
        "X = X.applymap(lambda x: 0 if isinstance(x, str) and x == \"false\" else x)\n",
        "X = X.applymap(lambda x: 1 if isinstance(x, bool) and x is True else x)\n",
        "X = X.applymap(lambda x: 0 if isinstance(x, bool) and x is False else x)\n",
        "\n",
        "\n",
        "if ADD_SEASONALITY:\n",
        "\n",
        "    X['S3_month'] = X['S3'].map(lambda x: int(x[5:7]) if not pd.isnull(x) else np.nan)\n",
        "    X['S3_month_sin'] = np.sin((X['S3_month']-1)*(2.*np.pi/12))\n",
        "    X['S3_month_cos'] = np.cos((X['S3_month']-1)*(2.*np.pi/12))\n",
        "    X['S3_season'] = X['S3_month'].apply(get_season)\n",
        "\n",
        "    X['S4_month'] = X['S4'].map(lambda x: int(x[5:7]) if not pd.isnull(x) else np.nan)\n",
        "    X['S4_month_sin'] = np.sin((X['S4_month']-1)*(2.*np.pi/12))\n",
        "    X['S4_month_cos'] = np.cos((X['S4_month']-1)*(2.*np.pi/12))\n",
        "    X['S4_season'] = X['S4_month'].apply(get_season)\n",
        "\n",
        "    X['S5_month'] = X['S5'].map(lambda x: int(x[5:7]) if not pd.isnull(x) else np.nan)\n",
        "    X['S5_month_sin'] = np.sin((X['S5_month']-1)*(2.*np.pi/12))\n",
        "    X['S5_month_cos'] = np.cos((X['S5_month']-1)*(2.*np.pi/12))\n",
        "    X['S5_season'] = X['S5_month'].apply(get_season)\n",
        "\n",
        "\n",
        "    X['S6_month'] = X['S6'].map(lambda x: int(x[5:7]) if not pd.isnull(x) else np.nan)\n",
        "    X['S6_month_sin'] = np.sin((X['S6_month']-1)*(2.*np.pi/12))\n",
        "    X['S6_month_cos'] = np.cos((X['S6_month']-1)*(2.*np.pi/12))\n",
        "    X['S6_season'] = X['S6_month'].apply(get_season)\n",
        "\n",
        "\n",
        "    X['S7_month'] = X['S7'].map(lambda x: int(x[5:7]) if not pd.isnull(x) else np.nan)\n",
        "    X['S7_month_sin'] = np.sin((X['S7_month']-1)*(2.*np.pi/12))\n",
        "    X['S7_month_cos'] = np.cos((X['S7_month']-1)*(2.*np.pi/12))\n",
        "    X['S7_season'] = X['S7_month'].apply(get_season)\n",
        "\n",
        "X = X.applymap(convert_date) # Reformat the dates\n",
        "\n",
        "\n",
        "non_numerical_col_names = list(X.select_dtypes(exclude=[\"number\"]).columns)\n",
        "if ONE_HOT:\n",
        "    X = pd.get_dummies(X,\n",
        "                    prefix=non_numerical_col_names,\n",
        "                    columns=non_numerical_col_names,\n",
        "                    dummy_na=True)\n",
        "else: # Label encoding\n",
        "    for col in non_numerical_col_names:\n",
        "        X[col] = X[col].astype('category')\n",
        "        X[col] = X[col].cat.codes #alphabetical order, and NaN = -1\n",
        "\n",
        "# Clean INSEE and IRIS codes\n",
        "X['COD_INSEE'] = X['COD_INSEE'].map(lambda x: x if (10000 < x < 99999) else np.nan)\n",
        "X['COD_IRIS'] = X['COD_IRIS'].map(lambda x: x if (100000000 < x < 999999999) else np.nan)\n",
        "\n",
        "if DROP_INSEE_IRIS:\n",
        "    X = X.drop(X[['COD_INSEE', 'COD_IRIS']], axis=1)\n",
        "\n",
        "if DROP_CORRELATED:\n",
        "    corr_matrix = X.corr().abs()\n",
        "    upper = corr_matrix.where(np.triu(np.ones(corr_matrix.shape), k=1).astype(np.bool))\n",
        "    to_drop = [column for column in upper.columns if any(upper[column] >= CORR_THRESHOLD)]\n",
        "    print(to_drop)\n",
        "    X = X.drop(X[to_drop], axis=1)"
      ],
      "execution_count": 8,
      "outputs": [
        {
          "output_type": "stream",
          "text": [
            "['C4_ib', 'C8_yb', 'C9_rb', 'C14_ob', 'Q39_nan']\n"
          ],
          "name": "stdout"
        }
      ]
    },
    {
      "cell_type": "code",
      "metadata": {
        "id": "BHLJIreJWvz8"
      },
      "source": [
        "X_train, X_test, y_train, y_test = train_test_split(X, y, test_size=0.15, shuffle=True, stratify=y, random_state=1234)\n",
        "\n",
        "# On passe tout au format Numpy\n",
        "X_train = X_train.to_numpy()\n",
        "X_test = X_test.to_numpy()\n",
        "y_train = y_train.to_numpy().ravel()\n",
        "y_test = y_test.to_numpy().ravel()"
      ],
      "execution_count": 9,
      "outputs": []
    },
    {
      "cell_type": "code",
      "metadata": {
        "colab": {
          "base_uri": "https://localhost:8080/"
        },
        "id": "WF-dvUqnWvni",
        "outputId": "31c119c1-1e05-4c7f-f3f8-b1748c1557de"
      },
      "source": [
        "print(X_train.shape)\n",
        "print(y_train.shape)"
      ],
      "execution_count": 10,
      "outputs": [
        {
          "output_type": "stream",
          "text": [
            "(72699, 251)\n",
            "(72699,)\n"
          ],
          "name": "stdout"
        }
      ]
    },
    {
      "cell_type": "markdown",
      "metadata": {
        "id": "j_yuDaJlVX3t"
      },
      "source": [
        "# XGBoost"
      ]
    },
    {
      "cell_type": "code",
      "metadata": {
        "id": "6NC1ajXuVbqE"
      },
      "source": [
        "import xgboost as xgb\n",
        "import tensorflow as tf\n",
        "from sklearn.model_selection import RandomizedSearchCV, GridSearchCV\n",
        "from sklearn.preprocessing import Normalizer\n",
        "\n",
        "from sklearn.experimental import enable_iterative_imputer\n",
        "from sklearn.impute import SimpleImputer, IterativeImputer, KNNImputer"
      ],
      "execution_count": 11,
      "outputs": []
    },
    {
      "cell_type": "code",
      "metadata": {
        "colab": {
          "base_uri": "https://localhost:8080/"
        },
        "id": "YlkSAcI4a4yF",
        "outputId": "0f4bbcb1-ecae-40c2-ea7c-85772e52234f"
      },
      "source": [
        "#XGBoost\n",
        "\n",
        "from sklearn.model_selection import cross_validate, StratifiedKFold\n",
        "\n",
        "with tf.device('/device:GPU:0'):\n",
        "    \n",
        "    classifier = xgb.XGBClassifier(n_estimators=5000, max_depth=4, missing=np.nan, nthread=-1,\n",
        "                        objective='binary:logistic', sampling_method='gradient_based', gamma=0.0,\n",
        "                        subsample=0.8,reg_lambda=3, reg_alpha=2.5, tree_method='gpu_hist', learning_rate=0.05, colsample_bytree=0.8, colsample_bylevel=0.8, min_child_weight=2.5,\n",
        "                        scale_pos_weight=y[y['TARGET'] == 0].shape[0] / y[y['TARGET'] == 1].shape[0], silent=True, random_state=1234) #Cross-validé, 0.7729 AUC sur testing\n",
        "  \n",
        "    parameters = {\"max_depth\": [4,5,6],\n",
        "                  \"learning_rate\": [0.05,0.1,0.2],\n",
        "                  \"min_child_weight\": [2.5,3,4.5],\n",
        "                  \"reg_lambda\": [2,2.5,3],\n",
        "                  \"reg_alpha\": [2,2.5,3]}\n",
        "\n",
        "    \n",
        "    cv = StratifiedKFold(n_splits=5, shuffle=False) #Used for CV and GS\n",
        "\n",
        "    ## Cross-validation for feature engineering, on fixed hyperparameters\n",
        "\n",
        "    classifier_cvfe = xgb.XGBClassifier(n_estimators=200, max_depth=4, missing=np.nan, nthread=-1,\n",
        "                        objective='binary:logistic', sampling_method='gradient_based', gamma=0.0,\n",
        "                        subsample=0.8,reg_lambda=2, reg_alpha=2.5, tree_method='gpu_hist', learning_rate=0.05, colsample_bytree=0.8, colsample_bylevel=0.8, min_child_weight=3.0,\n",
        "                        scale_pos_weight=y[y['TARGET'] == 0].shape[0] / y[y['TARGET'] == 1].shape[0], silent=True, random_state=1234)\n",
        "\n",
        "    #scores = cross_validate(classifier_cvfe, X_train, y_train, scoring=\"roc_auc\", cv=cv, n_jobs=-1, verbose=True) #CV with fixed hyperparameters, eg. for feature engineering CV\n",
        "    #print(np.mean(scores['test_score']))\n",
        "\n",
        "    ## Grid Search, see above for n_estimators choice\n",
        "    xgb_rscv = GridSearchCV(classifier, param_grid=parameters, scoring=\"roc_auc\",\n",
        "                             cv=cv, verbose=3)\n",
        "    fit_params = {\"verbose\": False, \"early_stopping_rounds\":15, \"eval_metric\": [\"auc\"], \"eval_set\": [(X_train, y_train), (X_test, y_test)]}\n",
        "    #boost_fit = xgb_rscv.fit(X_train, y_train, **fit_params)\n",
        "\n",
        "    #print(\"Best Score: {}\".format(boost_fit.best_score_))\n",
        "    #print(\"Best params: {}\".format(boost_fit.best_params_))\n",
        "\n",
        "    ## Fit of XGBoost with Early Stopping on testing set    \n",
        "    eval_set = [(X_train, y_train), (X_test, y_test)]\n",
        "    classifier.fit(X_train,y_train, early_stopping_rounds=15, eval_metric=[\"auc\"], eval_set=eval_set, verbose=True)"
      ],
      "execution_count": 12,
      "outputs": [
        {
          "output_type": "stream",
          "text": [
            "[0]\tvalidation_0-auc:0.680362\tvalidation_1-auc:0.676941\n",
            "Multiple eval metrics have been passed: 'validation_1-auc' will be used for early stopping.\n",
            "\n",
            "Will train until validation_1-auc hasn't improved in 15 rounds.\n",
            "[1]\tvalidation_0-auc:0.690683\tvalidation_1-auc:0.684939\n",
            "[2]\tvalidation_0-auc:0.69869\tvalidation_1-auc:0.689145\n",
            "[3]\tvalidation_0-auc:0.700085\tvalidation_1-auc:0.691171\n",
            "[4]\tvalidation_0-auc:0.700783\tvalidation_1-auc:0.69077\n",
            "[5]\tvalidation_0-auc:0.70462\tvalidation_1-auc:0.6947\n",
            "[6]\tvalidation_0-auc:0.705212\tvalidation_1-auc:0.69512\n",
            "[7]\tvalidation_0-auc:0.706536\tvalidation_1-auc:0.696764\n",
            "[8]\tvalidation_0-auc:0.711322\tvalidation_1-auc:0.701215\n",
            "[9]\tvalidation_0-auc:0.711948\tvalidation_1-auc:0.702356\n",
            "[10]\tvalidation_0-auc:0.712325\tvalidation_1-auc:0.702663\n",
            "[11]\tvalidation_0-auc:0.714048\tvalidation_1-auc:0.703858\n",
            "[12]\tvalidation_0-auc:0.714205\tvalidation_1-auc:0.704037\n",
            "[13]\tvalidation_0-auc:0.714953\tvalidation_1-auc:0.704985\n",
            "[14]\tvalidation_0-auc:0.715861\tvalidation_1-auc:0.705028\n",
            "[15]\tvalidation_0-auc:0.716963\tvalidation_1-auc:0.70607\n",
            "[16]\tvalidation_0-auc:0.718556\tvalidation_1-auc:0.707528\n",
            "[17]\tvalidation_0-auc:0.719609\tvalidation_1-auc:0.708499\n",
            "[18]\tvalidation_0-auc:0.720639\tvalidation_1-auc:0.709137\n",
            "[19]\tvalidation_0-auc:0.721522\tvalidation_1-auc:0.709983\n",
            "[20]\tvalidation_0-auc:0.722016\tvalidation_1-auc:0.710827\n",
            "[21]\tvalidation_0-auc:0.722406\tvalidation_1-auc:0.711319\n",
            "[22]\tvalidation_0-auc:0.723316\tvalidation_1-auc:0.712706\n",
            "[23]\tvalidation_0-auc:0.724041\tvalidation_1-auc:0.71328\n",
            "[24]\tvalidation_0-auc:0.725144\tvalidation_1-auc:0.714057\n",
            "[25]\tvalidation_0-auc:0.725734\tvalidation_1-auc:0.714225\n",
            "[26]\tvalidation_0-auc:0.726433\tvalidation_1-auc:0.715002\n",
            "[27]\tvalidation_0-auc:0.726998\tvalidation_1-auc:0.715359\n",
            "[28]\tvalidation_0-auc:0.727748\tvalidation_1-auc:0.716106\n",
            "[29]\tvalidation_0-auc:0.728719\tvalidation_1-auc:0.716701\n",
            "[30]\tvalidation_0-auc:0.729398\tvalidation_1-auc:0.717473\n",
            "[31]\tvalidation_0-auc:0.72974\tvalidation_1-auc:0.71766\n",
            "[32]\tvalidation_0-auc:0.730349\tvalidation_1-auc:0.71805\n",
            "[33]\tvalidation_0-auc:0.730792\tvalidation_1-auc:0.718351\n",
            "[34]\tvalidation_0-auc:0.731333\tvalidation_1-auc:0.718995\n",
            "[35]\tvalidation_0-auc:0.731552\tvalidation_1-auc:0.719306\n",
            "[36]\tvalidation_0-auc:0.732386\tvalidation_1-auc:0.71966\n",
            "[37]\tvalidation_0-auc:0.732893\tvalidation_1-auc:0.720189\n",
            "[38]\tvalidation_0-auc:0.733232\tvalidation_1-auc:0.720468\n",
            "[39]\tvalidation_0-auc:0.733777\tvalidation_1-auc:0.720949\n",
            "[40]\tvalidation_0-auc:0.734184\tvalidation_1-auc:0.72116\n",
            "[41]\tvalidation_0-auc:0.73461\tvalidation_1-auc:0.721335\n",
            "[42]\tvalidation_0-auc:0.73507\tvalidation_1-auc:0.721596\n",
            "[43]\tvalidation_0-auc:0.735612\tvalidation_1-auc:0.722175\n",
            "[44]\tvalidation_0-auc:0.736357\tvalidation_1-auc:0.722648\n",
            "[45]\tvalidation_0-auc:0.736807\tvalidation_1-auc:0.722974\n",
            "[46]\tvalidation_0-auc:0.737386\tvalidation_1-auc:0.723488\n",
            "[47]\tvalidation_0-auc:0.737787\tvalidation_1-auc:0.723707\n",
            "[48]\tvalidation_0-auc:0.738305\tvalidation_1-auc:0.724295\n",
            "[49]\tvalidation_0-auc:0.738699\tvalidation_1-auc:0.7246\n",
            "[50]\tvalidation_0-auc:0.73938\tvalidation_1-auc:0.725021\n",
            "[51]\tvalidation_0-auc:0.739737\tvalidation_1-auc:0.725327\n",
            "[52]\tvalidation_0-auc:0.74014\tvalidation_1-auc:0.725414\n",
            "[53]\tvalidation_0-auc:0.740505\tvalidation_1-auc:0.72575\n",
            "[54]\tvalidation_0-auc:0.740816\tvalidation_1-auc:0.725915\n",
            "[55]\tvalidation_0-auc:0.741029\tvalidation_1-auc:0.726078\n",
            "[56]\tvalidation_0-auc:0.741342\tvalidation_1-auc:0.726239\n",
            "[57]\tvalidation_0-auc:0.741969\tvalidation_1-auc:0.726676\n",
            "[58]\tvalidation_0-auc:0.742308\tvalidation_1-auc:0.726889\n",
            "[59]\tvalidation_0-auc:0.742737\tvalidation_1-auc:0.727156\n",
            "[60]\tvalidation_0-auc:0.743124\tvalidation_1-auc:0.727602\n",
            "[61]\tvalidation_0-auc:0.743351\tvalidation_1-auc:0.727704\n",
            "[62]\tvalidation_0-auc:0.743842\tvalidation_1-auc:0.728043\n",
            "[63]\tvalidation_0-auc:0.744247\tvalidation_1-auc:0.728145\n",
            "[64]\tvalidation_0-auc:0.744527\tvalidation_1-auc:0.72819\n",
            "[65]\tvalidation_0-auc:0.744729\tvalidation_1-auc:0.728229\n",
            "[66]\tvalidation_0-auc:0.745107\tvalidation_1-auc:0.728351\n",
            "[67]\tvalidation_0-auc:0.745485\tvalidation_1-auc:0.728592\n",
            "[68]\tvalidation_0-auc:0.745933\tvalidation_1-auc:0.729053\n",
            "[69]\tvalidation_0-auc:0.746323\tvalidation_1-auc:0.72941\n",
            "[70]\tvalidation_0-auc:0.746599\tvalidation_1-auc:0.729469\n",
            "[71]\tvalidation_0-auc:0.746911\tvalidation_1-auc:0.729672\n",
            "[72]\tvalidation_0-auc:0.747266\tvalidation_1-auc:0.729931\n",
            "[73]\tvalidation_0-auc:0.747844\tvalidation_1-auc:0.730092\n",
            "[74]\tvalidation_0-auc:0.748308\tvalidation_1-auc:0.730268\n",
            "[75]\tvalidation_0-auc:0.748615\tvalidation_1-auc:0.730443\n",
            "[76]\tvalidation_0-auc:0.748969\tvalidation_1-auc:0.730528\n",
            "[77]\tvalidation_0-auc:0.749188\tvalidation_1-auc:0.730536\n",
            "[78]\tvalidation_0-auc:0.749486\tvalidation_1-auc:0.730644\n",
            "[79]\tvalidation_0-auc:0.749948\tvalidation_1-auc:0.731019\n",
            "[80]\tvalidation_0-auc:0.750231\tvalidation_1-auc:0.73123\n",
            "[81]\tvalidation_0-auc:0.750609\tvalidation_1-auc:0.731568\n",
            "[82]\tvalidation_0-auc:0.750866\tvalidation_1-auc:0.731717\n",
            "[83]\tvalidation_0-auc:0.751279\tvalidation_1-auc:0.732046\n",
            "[84]\tvalidation_0-auc:0.751406\tvalidation_1-auc:0.732139\n",
            "[85]\tvalidation_0-auc:0.751863\tvalidation_1-auc:0.7325\n",
            "[86]\tvalidation_0-auc:0.752186\tvalidation_1-auc:0.732732\n",
            "[87]\tvalidation_0-auc:0.752638\tvalidation_1-auc:0.733021\n",
            "[88]\tvalidation_0-auc:0.752973\tvalidation_1-auc:0.73333\n",
            "[89]\tvalidation_0-auc:0.753193\tvalidation_1-auc:0.733436\n",
            "[90]\tvalidation_0-auc:0.753502\tvalidation_1-auc:0.733619\n",
            "[91]\tvalidation_0-auc:0.753754\tvalidation_1-auc:0.733689\n",
            "[92]\tvalidation_0-auc:0.75413\tvalidation_1-auc:0.733911\n",
            "[93]\tvalidation_0-auc:0.754359\tvalidation_1-auc:0.734176\n",
            "[94]\tvalidation_0-auc:0.754609\tvalidation_1-auc:0.734362\n",
            "[95]\tvalidation_0-auc:0.754846\tvalidation_1-auc:0.734485\n",
            "[96]\tvalidation_0-auc:0.755098\tvalidation_1-auc:0.734599\n",
            "[97]\tvalidation_0-auc:0.755331\tvalidation_1-auc:0.734696\n",
            "[98]\tvalidation_0-auc:0.755467\tvalidation_1-auc:0.73476\n",
            "[99]\tvalidation_0-auc:0.755592\tvalidation_1-auc:0.734804\n",
            "[100]\tvalidation_0-auc:0.755853\tvalidation_1-auc:0.734968\n",
            "[101]\tvalidation_0-auc:0.755979\tvalidation_1-auc:0.734934\n",
            "[102]\tvalidation_0-auc:0.756191\tvalidation_1-auc:0.735065\n",
            "[103]\tvalidation_0-auc:0.756432\tvalidation_1-auc:0.735282\n",
            "[104]\tvalidation_0-auc:0.756856\tvalidation_1-auc:0.735636\n",
            "[105]\tvalidation_0-auc:0.757198\tvalidation_1-auc:0.735841\n",
            "[106]\tvalidation_0-auc:0.757435\tvalidation_1-auc:0.736027\n",
            "[107]\tvalidation_0-auc:0.757626\tvalidation_1-auc:0.736205\n",
            "[108]\tvalidation_0-auc:0.757862\tvalidation_1-auc:0.736451\n",
            "[109]\tvalidation_0-auc:0.758005\tvalidation_1-auc:0.736459\n",
            "[110]\tvalidation_0-auc:0.758238\tvalidation_1-auc:0.736599\n",
            "[111]\tvalidation_0-auc:0.758493\tvalidation_1-auc:0.736756\n",
            "[112]\tvalidation_0-auc:0.758642\tvalidation_1-auc:0.736854\n",
            "[113]\tvalidation_0-auc:0.758874\tvalidation_1-auc:0.737035\n",
            "[114]\tvalidation_0-auc:0.759191\tvalidation_1-auc:0.737218\n",
            "[115]\tvalidation_0-auc:0.759478\tvalidation_1-auc:0.737441\n",
            "[116]\tvalidation_0-auc:0.759742\tvalidation_1-auc:0.737706\n",
            "[117]\tvalidation_0-auc:0.759981\tvalidation_1-auc:0.737802\n",
            "[118]\tvalidation_0-auc:0.760213\tvalidation_1-auc:0.73788\n",
            "[119]\tvalidation_0-auc:0.760392\tvalidation_1-auc:0.73795\n",
            "[120]\tvalidation_0-auc:0.760617\tvalidation_1-auc:0.738118\n",
            "[121]\tvalidation_0-auc:0.760852\tvalidation_1-auc:0.738319\n",
            "[122]\tvalidation_0-auc:0.761084\tvalidation_1-auc:0.738477\n",
            "[123]\tvalidation_0-auc:0.761243\tvalidation_1-auc:0.738603\n",
            "[124]\tvalidation_0-auc:0.761499\tvalidation_1-auc:0.738685\n",
            "[125]\tvalidation_0-auc:0.76169\tvalidation_1-auc:0.738864\n",
            "[126]\tvalidation_0-auc:0.761841\tvalidation_1-auc:0.738914\n",
            "[127]\tvalidation_0-auc:0.761999\tvalidation_1-auc:0.738956\n",
            "[128]\tvalidation_0-auc:0.762222\tvalidation_1-auc:0.738982\n",
            "[129]\tvalidation_0-auc:0.762382\tvalidation_1-auc:0.739025\n",
            "[130]\tvalidation_0-auc:0.762797\tvalidation_1-auc:0.739416\n",
            "[131]\tvalidation_0-auc:0.763113\tvalidation_1-auc:0.739649\n",
            "[132]\tvalidation_0-auc:0.763292\tvalidation_1-auc:0.739675\n",
            "[133]\tvalidation_0-auc:0.763502\tvalidation_1-auc:0.739922\n",
            "[134]\tvalidation_0-auc:0.76366\tvalidation_1-auc:0.739999\n",
            "[135]\tvalidation_0-auc:0.763891\tvalidation_1-auc:0.740106\n",
            "[136]\tvalidation_0-auc:0.764083\tvalidation_1-auc:0.740262\n",
            "[137]\tvalidation_0-auc:0.764264\tvalidation_1-auc:0.740294\n",
            "[138]\tvalidation_0-auc:0.764456\tvalidation_1-auc:0.74031\n",
            "[139]\tvalidation_0-auc:0.764604\tvalidation_1-auc:0.740373\n",
            "[140]\tvalidation_0-auc:0.764693\tvalidation_1-auc:0.740442\n",
            "[141]\tvalidation_0-auc:0.764948\tvalidation_1-auc:0.740581\n",
            "[142]\tvalidation_0-auc:0.765173\tvalidation_1-auc:0.740672\n",
            "[143]\tvalidation_0-auc:0.765409\tvalidation_1-auc:0.740913\n",
            "[144]\tvalidation_0-auc:0.765548\tvalidation_1-auc:0.740973\n",
            "[145]\tvalidation_0-auc:0.765683\tvalidation_1-auc:0.741036\n",
            "[146]\tvalidation_0-auc:0.765863\tvalidation_1-auc:0.74107\n",
            "[147]\tvalidation_0-auc:0.766141\tvalidation_1-auc:0.741204\n",
            "[148]\tvalidation_0-auc:0.766249\tvalidation_1-auc:0.741205\n",
            "[149]\tvalidation_0-auc:0.766501\tvalidation_1-auc:0.741434\n",
            "[150]\tvalidation_0-auc:0.766661\tvalidation_1-auc:0.741525\n",
            "[151]\tvalidation_0-auc:0.7668\tvalidation_1-auc:0.741557\n",
            "[152]\tvalidation_0-auc:0.766903\tvalidation_1-auc:0.741555\n",
            "[153]\tvalidation_0-auc:0.767088\tvalidation_1-auc:0.741615\n",
            "[154]\tvalidation_0-auc:0.767248\tvalidation_1-auc:0.741656\n",
            "[155]\tvalidation_0-auc:0.76752\tvalidation_1-auc:0.741837\n",
            "[156]\tvalidation_0-auc:0.767635\tvalidation_1-auc:0.741847\n",
            "[157]\tvalidation_0-auc:0.767756\tvalidation_1-auc:0.74194\n",
            "[158]\tvalidation_0-auc:0.767888\tvalidation_1-auc:0.742066\n",
            "[159]\tvalidation_0-auc:0.768007\tvalidation_1-auc:0.742101\n",
            "[160]\tvalidation_0-auc:0.768226\tvalidation_1-auc:0.742238\n",
            "[161]\tvalidation_0-auc:0.768346\tvalidation_1-auc:0.742268\n",
            "[162]\tvalidation_0-auc:0.768456\tvalidation_1-auc:0.742305\n",
            "[163]\tvalidation_0-auc:0.76858\tvalidation_1-auc:0.742382\n",
            "[164]\tvalidation_0-auc:0.768776\tvalidation_1-auc:0.742393\n",
            "[165]\tvalidation_0-auc:0.768967\tvalidation_1-auc:0.742412\n",
            "[166]\tvalidation_0-auc:0.769184\tvalidation_1-auc:0.742427\n",
            "[167]\tvalidation_0-auc:0.769292\tvalidation_1-auc:0.74243\n",
            "[168]\tvalidation_0-auc:0.769434\tvalidation_1-auc:0.74256\n",
            "[169]\tvalidation_0-auc:0.769653\tvalidation_1-auc:0.742656\n",
            "[170]\tvalidation_0-auc:0.769785\tvalidation_1-auc:0.742746\n",
            "[171]\tvalidation_0-auc:0.769897\tvalidation_1-auc:0.742745\n",
            "[172]\tvalidation_0-auc:0.770068\tvalidation_1-auc:0.742864\n",
            "[173]\tvalidation_0-auc:0.770273\tvalidation_1-auc:0.743\n",
            "[174]\tvalidation_0-auc:0.770401\tvalidation_1-auc:0.743116\n",
            "[175]\tvalidation_0-auc:0.770527\tvalidation_1-auc:0.743161\n",
            "[176]\tvalidation_0-auc:0.770626\tvalidation_1-auc:0.743104\n",
            "[177]\tvalidation_0-auc:0.770749\tvalidation_1-auc:0.743197\n",
            "[178]\tvalidation_0-auc:0.770907\tvalidation_1-auc:0.743312\n",
            "[179]\tvalidation_0-auc:0.77113\tvalidation_1-auc:0.743369\n",
            "[180]\tvalidation_0-auc:0.771233\tvalidation_1-auc:0.743391\n",
            "[181]\tvalidation_0-auc:0.77138\tvalidation_1-auc:0.743421\n",
            "[182]\tvalidation_0-auc:0.771504\tvalidation_1-auc:0.743469\n",
            "[183]\tvalidation_0-auc:0.771652\tvalidation_1-auc:0.743581\n",
            "[184]\tvalidation_0-auc:0.771804\tvalidation_1-auc:0.743653\n",
            "[185]\tvalidation_0-auc:0.771892\tvalidation_1-auc:0.74373\n",
            "[186]\tvalidation_0-auc:0.771972\tvalidation_1-auc:0.743754\n",
            "[187]\tvalidation_0-auc:0.772113\tvalidation_1-auc:0.743822\n",
            "[188]\tvalidation_0-auc:0.772212\tvalidation_1-auc:0.743887\n",
            "[189]\tvalidation_0-auc:0.772335\tvalidation_1-auc:0.743971\n",
            "[190]\tvalidation_0-auc:0.77249\tvalidation_1-auc:0.744026\n",
            "[191]\tvalidation_0-auc:0.772686\tvalidation_1-auc:0.744129\n",
            "[192]\tvalidation_0-auc:0.772855\tvalidation_1-auc:0.744113\n",
            "[193]\tvalidation_0-auc:0.772998\tvalidation_1-auc:0.74413\n",
            "[194]\tvalidation_0-auc:0.773164\tvalidation_1-auc:0.744132\n",
            "[195]\tvalidation_0-auc:0.773295\tvalidation_1-auc:0.744122\n",
            "[196]\tvalidation_0-auc:0.773414\tvalidation_1-auc:0.744179\n",
            "[197]\tvalidation_0-auc:0.773522\tvalidation_1-auc:0.744285\n",
            "[198]\tvalidation_0-auc:0.773631\tvalidation_1-auc:0.744348\n",
            "[199]\tvalidation_0-auc:0.773717\tvalidation_1-auc:0.744405\n",
            "[200]\tvalidation_0-auc:0.773805\tvalidation_1-auc:0.744405\n",
            "[201]\tvalidation_0-auc:0.773944\tvalidation_1-auc:0.744505\n",
            "[202]\tvalidation_0-auc:0.774043\tvalidation_1-auc:0.744597\n",
            "[203]\tvalidation_0-auc:0.774157\tvalidation_1-auc:0.744502\n",
            "[204]\tvalidation_0-auc:0.774331\tvalidation_1-auc:0.744479\n",
            "[205]\tvalidation_0-auc:0.774494\tvalidation_1-auc:0.744519\n",
            "[206]\tvalidation_0-auc:0.774659\tvalidation_1-auc:0.744607\n",
            "[207]\tvalidation_0-auc:0.774707\tvalidation_1-auc:0.744638\n",
            "[208]\tvalidation_0-auc:0.774795\tvalidation_1-auc:0.744681\n",
            "[209]\tvalidation_0-auc:0.774963\tvalidation_1-auc:0.744835\n",
            "[210]\tvalidation_0-auc:0.775092\tvalidation_1-auc:0.744936\n",
            "[211]\tvalidation_0-auc:0.775222\tvalidation_1-auc:0.744983\n",
            "[212]\tvalidation_0-auc:0.775339\tvalidation_1-auc:0.745044\n",
            "[213]\tvalidation_0-auc:0.775552\tvalidation_1-auc:0.745243\n",
            "[214]\tvalidation_0-auc:0.775617\tvalidation_1-auc:0.745301\n",
            "[215]\tvalidation_0-auc:0.775737\tvalidation_1-auc:0.745386\n",
            "[216]\tvalidation_0-auc:0.775868\tvalidation_1-auc:0.745394\n",
            "[217]\tvalidation_0-auc:0.775967\tvalidation_1-auc:0.745471\n",
            "[218]\tvalidation_0-auc:0.77604\tvalidation_1-auc:0.745446\n",
            "[219]\tvalidation_0-auc:0.776132\tvalidation_1-auc:0.745485\n",
            "[220]\tvalidation_0-auc:0.776197\tvalidation_1-auc:0.745479\n",
            "[221]\tvalidation_0-auc:0.776346\tvalidation_1-auc:0.745498\n",
            "[222]\tvalidation_0-auc:0.776492\tvalidation_1-auc:0.74566\n",
            "[223]\tvalidation_0-auc:0.776569\tvalidation_1-auc:0.745694\n",
            "[224]\tvalidation_0-auc:0.776694\tvalidation_1-auc:0.745838\n",
            "[225]\tvalidation_0-auc:0.776815\tvalidation_1-auc:0.745849\n",
            "[226]\tvalidation_0-auc:0.777023\tvalidation_1-auc:0.745921\n",
            "[227]\tvalidation_0-auc:0.777088\tvalidation_1-auc:0.74597\n",
            "[228]\tvalidation_0-auc:0.777149\tvalidation_1-auc:0.746031\n",
            "[229]\tvalidation_0-auc:0.777285\tvalidation_1-auc:0.746066\n",
            "[230]\tvalidation_0-auc:0.777357\tvalidation_1-auc:0.746101\n",
            "[231]\tvalidation_0-auc:0.777443\tvalidation_1-auc:0.746122\n",
            "[232]\tvalidation_0-auc:0.777537\tvalidation_1-auc:0.746205\n",
            "[233]\tvalidation_0-auc:0.777608\tvalidation_1-auc:0.746276\n",
            "[234]\tvalidation_0-auc:0.777803\tvalidation_1-auc:0.746328\n",
            "[235]\tvalidation_0-auc:0.777891\tvalidation_1-auc:0.746344\n",
            "[236]\tvalidation_0-auc:0.777969\tvalidation_1-auc:0.746367\n",
            "[237]\tvalidation_0-auc:0.778139\tvalidation_1-auc:0.746482\n",
            "[238]\tvalidation_0-auc:0.77825\tvalidation_1-auc:0.746563\n",
            "[239]\tvalidation_0-auc:0.778374\tvalidation_1-auc:0.746547\n",
            "[240]\tvalidation_0-auc:0.778431\tvalidation_1-auc:0.746544\n",
            "[241]\tvalidation_0-auc:0.778623\tvalidation_1-auc:0.746779\n",
            "[242]\tvalidation_0-auc:0.778668\tvalidation_1-auc:0.746871\n",
            "[243]\tvalidation_0-auc:0.778812\tvalidation_1-auc:0.746975\n",
            "[244]\tvalidation_0-auc:0.778982\tvalidation_1-auc:0.747074\n",
            "[245]\tvalidation_0-auc:0.779102\tvalidation_1-auc:0.747094\n",
            "[246]\tvalidation_0-auc:0.779223\tvalidation_1-auc:0.747091\n",
            "[247]\tvalidation_0-auc:0.77933\tvalidation_1-auc:0.747125\n",
            "[248]\tvalidation_0-auc:0.779415\tvalidation_1-auc:0.7471\n",
            "[249]\tvalidation_0-auc:0.779545\tvalidation_1-auc:0.747123\n",
            "[250]\tvalidation_0-auc:0.779602\tvalidation_1-auc:0.747119\n",
            "[251]\tvalidation_0-auc:0.77966\tvalidation_1-auc:0.747091\n",
            "[252]\tvalidation_0-auc:0.779779\tvalidation_1-auc:0.747102\n",
            "[253]\tvalidation_0-auc:0.77985\tvalidation_1-auc:0.747121\n",
            "[254]\tvalidation_0-auc:0.779985\tvalidation_1-auc:0.747157\n",
            "[255]\tvalidation_0-auc:0.780149\tvalidation_1-auc:0.747265\n",
            "[256]\tvalidation_0-auc:0.780229\tvalidation_1-auc:0.747325\n",
            "[257]\tvalidation_0-auc:0.780302\tvalidation_1-auc:0.747425\n",
            "[258]\tvalidation_0-auc:0.780439\tvalidation_1-auc:0.747535\n",
            "[259]\tvalidation_0-auc:0.780561\tvalidation_1-auc:0.747603\n",
            "[260]\tvalidation_0-auc:0.780725\tvalidation_1-auc:0.747701\n",
            "[261]\tvalidation_0-auc:0.780831\tvalidation_1-auc:0.747757\n",
            "[262]\tvalidation_0-auc:0.780936\tvalidation_1-auc:0.747827\n",
            "[263]\tvalidation_0-auc:0.780981\tvalidation_1-auc:0.747888\n",
            "[264]\tvalidation_0-auc:0.781113\tvalidation_1-auc:0.74787\n",
            "[265]\tvalidation_0-auc:0.781265\tvalidation_1-auc:0.747983\n",
            "[266]\tvalidation_0-auc:0.781412\tvalidation_1-auc:0.748033\n",
            "[267]\tvalidation_0-auc:0.78154\tvalidation_1-auc:0.748026\n",
            "[268]\tvalidation_0-auc:0.781594\tvalidation_1-auc:0.74805\n",
            "[269]\tvalidation_0-auc:0.781773\tvalidation_1-auc:0.748069\n",
            "[270]\tvalidation_0-auc:0.781905\tvalidation_1-auc:0.748175\n",
            "[271]\tvalidation_0-auc:0.782026\tvalidation_1-auc:0.748188\n",
            "[272]\tvalidation_0-auc:0.782079\tvalidation_1-auc:0.748179\n",
            "[273]\tvalidation_0-auc:0.782227\tvalidation_1-auc:0.748269\n",
            "[274]\tvalidation_0-auc:0.782323\tvalidation_1-auc:0.748327\n",
            "[275]\tvalidation_0-auc:0.782447\tvalidation_1-auc:0.748247\n",
            "[276]\tvalidation_0-auc:0.782533\tvalidation_1-auc:0.748217\n",
            "[277]\tvalidation_0-auc:0.782651\tvalidation_1-auc:0.748199\n",
            "[278]\tvalidation_0-auc:0.782719\tvalidation_1-auc:0.748281\n",
            "[279]\tvalidation_0-auc:0.782814\tvalidation_1-auc:0.748271\n",
            "[280]\tvalidation_0-auc:0.782911\tvalidation_1-auc:0.748293\n",
            "[281]\tvalidation_0-auc:0.783046\tvalidation_1-auc:0.748327\n",
            "[282]\tvalidation_0-auc:0.783142\tvalidation_1-auc:0.748272\n",
            "[283]\tvalidation_0-auc:0.783224\tvalidation_1-auc:0.748366\n",
            "[284]\tvalidation_0-auc:0.783335\tvalidation_1-auc:0.748431\n",
            "[285]\tvalidation_0-auc:0.783425\tvalidation_1-auc:0.748446\n",
            "[286]\tvalidation_0-auc:0.783532\tvalidation_1-auc:0.748558\n",
            "[287]\tvalidation_0-auc:0.783676\tvalidation_1-auc:0.748556\n",
            "[288]\tvalidation_0-auc:0.783745\tvalidation_1-auc:0.748551\n",
            "[289]\tvalidation_0-auc:0.78388\tvalidation_1-auc:0.748587\n",
            "[290]\tvalidation_0-auc:0.783927\tvalidation_1-auc:0.748612\n",
            "[291]\tvalidation_0-auc:0.78404\tvalidation_1-auc:0.748683\n",
            "[292]\tvalidation_0-auc:0.784163\tvalidation_1-auc:0.748734\n",
            "[293]\tvalidation_0-auc:0.784295\tvalidation_1-auc:0.748779\n",
            "[294]\tvalidation_0-auc:0.784401\tvalidation_1-auc:0.748814\n",
            "[295]\tvalidation_0-auc:0.784434\tvalidation_1-auc:0.748817\n",
            "[296]\tvalidation_0-auc:0.78451\tvalidation_1-auc:0.74879\n",
            "[297]\tvalidation_0-auc:0.784643\tvalidation_1-auc:0.74882\n",
            "[298]\tvalidation_0-auc:0.784783\tvalidation_1-auc:0.748827\n",
            "[299]\tvalidation_0-auc:0.784854\tvalidation_1-auc:0.748832\n",
            "[300]\tvalidation_0-auc:0.784918\tvalidation_1-auc:0.748883\n",
            "[301]\tvalidation_0-auc:0.785009\tvalidation_1-auc:0.748873\n",
            "[302]\tvalidation_0-auc:0.785177\tvalidation_1-auc:0.748974\n",
            "[303]\tvalidation_0-auc:0.785273\tvalidation_1-auc:0.748959\n",
            "[304]\tvalidation_0-auc:0.785372\tvalidation_1-auc:0.748984\n",
            "[305]\tvalidation_0-auc:0.785462\tvalidation_1-auc:0.749018\n",
            "[306]\tvalidation_0-auc:0.785683\tvalidation_1-auc:0.749154\n",
            "[307]\tvalidation_0-auc:0.7858\tvalidation_1-auc:0.749219\n",
            "[308]\tvalidation_0-auc:0.785921\tvalidation_1-auc:0.749211\n",
            "[309]\tvalidation_0-auc:0.786031\tvalidation_1-auc:0.749262\n",
            "[310]\tvalidation_0-auc:0.786174\tvalidation_1-auc:0.749322\n",
            "[311]\tvalidation_0-auc:0.786276\tvalidation_1-auc:0.749343\n",
            "[312]\tvalidation_0-auc:0.786335\tvalidation_1-auc:0.749357\n",
            "[313]\tvalidation_0-auc:0.786398\tvalidation_1-auc:0.749359\n",
            "[314]\tvalidation_0-auc:0.786425\tvalidation_1-auc:0.749336\n",
            "[315]\tvalidation_0-auc:0.786539\tvalidation_1-auc:0.749394\n",
            "[316]\tvalidation_0-auc:0.786608\tvalidation_1-auc:0.749408\n",
            "[317]\tvalidation_0-auc:0.786638\tvalidation_1-auc:0.749415\n",
            "[318]\tvalidation_0-auc:0.78675\tvalidation_1-auc:0.74939\n",
            "[319]\tvalidation_0-auc:0.78686\tvalidation_1-auc:0.749506\n",
            "[320]\tvalidation_0-auc:0.787014\tvalidation_1-auc:0.749481\n",
            "[321]\tvalidation_0-auc:0.787198\tvalidation_1-auc:0.749621\n",
            "[322]\tvalidation_0-auc:0.787294\tvalidation_1-auc:0.749661\n",
            "[323]\tvalidation_0-auc:0.787414\tvalidation_1-auc:0.749728\n",
            "[324]\tvalidation_0-auc:0.787512\tvalidation_1-auc:0.749761\n",
            "[325]\tvalidation_0-auc:0.787552\tvalidation_1-auc:0.749775\n",
            "[326]\tvalidation_0-auc:0.787634\tvalidation_1-auc:0.7498\n",
            "[327]\tvalidation_0-auc:0.787796\tvalidation_1-auc:0.749898\n",
            "[328]\tvalidation_0-auc:0.787899\tvalidation_1-auc:0.749829\n",
            "[329]\tvalidation_0-auc:0.788053\tvalidation_1-auc:0.749837\n",
            "[330]\tvalidation_0-auc:0.788124\tvalidation_1-auc:0.749875\n",
            "[331]\tvalidation_0-auc:0.788188\tvalidation_1-auc:0.749905\n",
            "[332]\tvalidation_0-auc:0.788266\tvalidation_1-auc:0.749965\n",
            "[333]\tvalidation_0-auc:0.788391\tvalidation_1-auc:0.750024\n",
            "[334]\tvalidation_0-auc:0.788474\tvalidation_1-auc:0.750108\n",
            "[335]\tvalidation_0-auc:0.788593\tvalidation_1-auc:0.750181\n",
            "[336]\tvalidation_0-auc:0.788641\tvalidation_1-auc:0.750208\n",
            "[337]\tvalidation_0-auc:0.788662\tvalidation_1-auc:0.750205\n",
            "[338]\tvalidation_0-auc:0.788807\tvalidation_1-auc:0.750247\n",
            "[339]\tvalidation_0-auc:0.78883\tvalidation_1-auc:0.750207\n",
            "[340]\tvalidation_0-auc:0.788887\tvalidation_1-auc:0.75021\n",
            "[341]\tvalidation_0-auc:0.788972\tvalidation_1-auc:0.750193\n",
            "[342]\tvalidation_0-auc:0.789167\tvalidation_1-auc:0.750231\n",
            "[343]\tvalidation_0-auc:0.789322\tvalidation_1-auc:0.750275\n",
            "[344]\tvalidation_0-auc:0.789418\tvalidation_1-auc:0.750336\n",
            "[345]\tvalidation_0-auc:0.789514\tvalidation_1-auc:0.75028\n",
            "[346]\tvalidation_0-auc:0.789594\tvalidation_1-auc:0.750292\n",
            "[347]\tvalidation_0-auc:0.789658\tvalidation_1-auc:0.750318\n",
            "[348]\tvalidation_0-auc:0.789771\tvalidation_1-auc:0.750356\n",
            "[349]\tvalidation_0-auc:0.789846\tvalidation_1-auc:0.750412\n",
            "[350]\tvalidation_0-auc:0.789943\tvalidation_1-auc:0.750449\n",
            "[351]\tvalidation_0-auc:0.790018\tvalidation_1-auc:0.75042\n",
            "[352]\tvalidation_0-auc:0.790137\tvalidation_1-auc:0.750438\n",
            "[353]\tvalidation_0-auc:0.790261\tvalidation_1-auc:0.750509\n",
            "[354]\tvalidation_0-auc:0.790317\tvalidation_1-auc:0.750497\n",
            "[355]\tvalidation_0-auc:0.79036\tvalidation_1-auc:0.750551\n",
            "[356]\tvalidation_0-auc:0.790461\tvalidation_1-auc:0.750525\n",
            "[357]\tvalidation_0-auc:0.790576\tvalidation_1-auc:0.750422\n",
            "[358]\tvalidation_0-auc:0.790641\tvalidation_1-auc:0.750413\n",
            "[359]\tvalidation_0-auc:0.790755\tvalidation_1-auc:0.750449\n",
            "[360]\tvalidation_0-auc:0.790826\tvalidation_1-auc:0.750498\n",
            "[361]\tvalidation_0-auc:0.790863\tvalidation_1-auc:0.750459\n",
            "[362]\tvalidation_0-auc:0.790979\tvalidation_1-auc:0.750403\n",
            "[363]\tvalidation_0-auc:0.791047\tvalidation_1-auc:0.750393\n",
            "[364]\tvalidation_0-auc:0.791104\tvalidation_1-auc:0.750401\n",
            "[365]\tvalidation_0-auc:0.791204\tvalidation_1-auc:0.750441\n",
            "[366]\tvalidation_0-auc:0.791275\tvalidation_1-auc:0.750475\n",
            "[367]\tvalidation_0-auc:0.791334\tvalidation_1-auc:0.750479\n",
            "[368]\tvalidation_0-auc:0.791432\tvalidation_1-auc:0.750492\n",
            "[369]\tvalidation_0-auc:0.791559\tvalidation_1-auc:0.750501\n",
            "[370]\tvalidation_0-auc:0.791689\tvalidation_1-auc:0.750502\n",
            "Stopping. Best iteration:\n",
            "[355]\tvalidation_0-auc:0.79036\tvalidation_1-auc:0.750551\n",
            "\n"
          ],
          "name": "stdout"
        }
      ]
    },
    {
      "cell_type": "code",
      "metadata": {
        "id": "VpVD4jS18WPC"
      },
      "source": [
        "# Cross Validating scores\n",
        "# BASE STATE: colinearities removed, one hot encoding, numerical dates in days\n",
        "# DROP_CORRELATED=True, DROP_INSEE_IRIS=False, ADD_SEASONALITY=False, ONE_HOT=True\n",
        "# Base score : 0.7477107663886452\n",
        "\n",
        "# Without removing colinearity (>0.95): 0.7480714055330047\n",
        "# Removing INSEE and IRIS : 0.7485004386608403\n",
        "# Removing INSEE and IRIS without removing colinearity (>0.95) : 0.7490101845165624\n",
        "# Removing INSEE/IRIS and colinéarités (=1.0) : 0.7489473232346433\n",
        "# With ADD_SEASONALITY=True : 0.7474095155783429\n",
        "# Removing features with no performance gain with XGBoost : 0.7488975037382765"
      ],
      "execution_count": 13,
      "outputs": []
    },
    {
      "cell_type": "markdown",
      "metadata": {
        "id": "X1Sna58nMSJG"
      },
      "source": [
        "Removing useless features improves the performance of XGBoost, but the model remains sensitive to data formatting. Removing colinear features actually reduces performance very slightly, this can be attributed to some parameters being more adapted to certain configurations."
      ]
    },
    {
      "cell_type": "code",
      "metadata": {
        "colab": {
          "base_uri": "https://localhost:8080/",
          "height": 1000
        },
        "id": "hT8-n7Y_sbPp",
        "outputId": "c5eb7cf0-e686-48dc-e6b9-1732b7f8b20d"
      },
      "source": [
        "from sklearn.metrics import accuracy_score, f1_score, plot_roc_curve, plot_precision_recall_curve,precision_score, recall_score, matthews_corrcoef\n",
        "\n",
        "\n",
        "def print_metrics(classifier, X_train, y_train, X_test, y_test):\n",
        "\n",
        "    print(\"On training:\")\n",
        "\n",
        "    y_pred_on_train = classifier.predict(X_train)\n",
        "    print(f\"Training f1-score is {f1_score(y_pred_on_train, y_train)}\")\n",
        "    print(f\"Training precision is {precision_score(y_pred_on_train, y_train)}\")\n",
        "    print(f\"Training recall is {recall_score(y_pred_on_train, y_train)}\")\n",
        "    print(f\"Training Matthews correlation coefficient is {matthews_corrcoef(y_pred_on_train, y_train)}\")\n",
        "\n",
        "    plot_roc_curve(classifier, X_train, y_train)\n",
        "    plot_precision_recall_curve(classifier, X_train, y_train)\n",
        "\n",
        "    print(\"On testing:\")\n",
        "\n",
        "    y_pred = classifier.predict(X_test)\n",
        "    print(f\"Testing f1-score is {f1_score(y_pred, y_test)}\")\n",
        "    print(f\"Testing average precision is {precision_score(y_pred, y_test)}\")\n",
        "    print(f\"Testing average recall is {recall_score(y_pred, y_test)}\")\n",
        "    print(f\"Testing Matthews correlation coefficient is {matthews_corrcoef(y_pred, y_test)}\")\n",
        "\n",
        "    plot_roc_curve(classifier, X_test, y_test)\n",
        "    plot_precision_recall_curve(classifier, X_test, y_test)\n",
        "\n",
        "print_metrics(classifier, X_train, y_train, X_test, y_test)"
      ],
      "execution_count": 14,
      "outputs": [
        {
          "output_type": "stream",
          "text": [
            "On training:\n",
            "Training f1-score is 0.4845618915159944\n",
            "Training precision is 0.7426460139263891\n",
            "Training recall is 0.3595954035643019\n",
            "Training Matthews correlation coefficient is 0.34290857040893324\n",
            "On testing:\n",
            "Testing f1-score is 0.4549061094948426\n",
            "Testing average precision is 0.6924315619967794\n",
            "Testing average recall is 0.3387160299330445\n",
            "Testing Matthews correlation coefficient is 0.2972304864873586\n"
          ],
          "name": "stdout"
        },
        {
          "output_type": "display_data",
          "data": {
            "image/png": "[encoded data removed]",
            "text/plain": [
              "<Figure size 432x288 with 1 Axes>"
            ]
          },
          "metadata": {
            "tags": [],
            "needs_background": "light"
          }
        },
        {
          "output_type": "display_data",
          "data": {
            "image/png": "[encoded data removed]",
            "text/plain": [
              "<Figure size 432x288 with 1 Axes>"
            ]
          },
          "metadata": {
            "tags": [],
            "needs_background": "light"
          }
        },
        {
          "output_type": "display_data",
          "data": {
            "image/png": "[encoded data removed]",
            "text/plain": [
              "<Figure size 432x288 with 1 Axes>"
            ]
          },
          "metadata": {
            "tags": [],
            "needs_background": "light"
          }
        },
        {
          "output_type": "display_data",
          "data": {
            "image/png": "[encoded data removed]",
            "text/plain": [
              "<Figure size 432x288 with 1 Axes>"
            ]
          },
          "metadata": {
            "tags": [],
            "needs_background": "light"
          }
        }
      ]
    },
    {
      "cell_type": "code",
      "metadata": {
        "colab": {
          "base_uri": "https://localhost:8080/",
          "height": 732
        },
        "id": "ugV73--TowcE",
        "outputId": "60c59872-ac16-4976-d4d0-9b09bc865441"
      },
      "source": [
        "n_features_to_print = 25\n",
        "\n",
        "import matplotlib.pyplot as plt\n",
        "from xgboost import plot_importance\n",
        "plot_importance(classifier, max_num_features=n_features_to_print, importance_type=\"gain\")\n",
        "plt.show()\n",
        "\n",
        "importances = classifier.get_booster().get_score(importance_type='gain')\n",
        "importances_sorted = {k: v for k, v in sorted(importances.items(), key=lambda item: item[1], reverse=True)}\n",
        "c = 0\n",
        "\n",
        "to_be_kept_colnames = []\n",
        "for i, key in enumerate(importances_sorted):\n",
        "    if i < n_features_to_print:\n",
        "        print(f\"{X.columns[int(key[1:])]}: gain {importances_sorted[key]}\")\n",
        "    to_be_kept_colnames.append(X.columns[int(key[1:])])\n",
        "    c+=1\n",
        "print(f\"{X.shape[1]-c} variables have 0 performance gain after one iteration.\")"
      ],
      "execution_count": 15,
      "outputs": [
        {
          "output_type": "display_data",
          "data": {
            "image/png": "[encoded data removed]",
            "text/plain": [
              "<Figure size 432x288 with 1 Axes>"
            ]
          },
          "metadata": {
            "tags": [],
            "needs_background": "light"
          }
        },
        {
          "output_type": "stream",
          "text": [
            "C4_ia: gain 621.5949921547615\n",
            "C13_rc: gain 379.2206311749999\n",
            "Q16: gain 290.52515520963635\n",
            "C3_b: gain 284.03586788409103\n",
            "C12_oc: gain 216.93096467\n",
            "Q10_pd: gain 211.49610909473685\n",
            "Q17: gain 153.59709559899997\n",
            "C8_ya: gain 147.7604664125\n",
            "Q10_pc: gain 128.40407251538463\n",
            "C12_ob: gain 128.19509908911112\n",
            "Q1_ha: gain 122.33142427375\n",
            "C13_rb: gain 99.76138161999998\n",
            "Q7: gain 91.73545675263159\n",
            "Q18: gain 88.34317495639995\n",
            "Q34_ed: gain 84.9609766725\n",
            "S8: gain 80.73495792607001\n",
            "S5: gain 69.4848869733962\n",
            "S6: gain 67.36292409738985\n",
            "Q4: gain 65.06678097736005\n",
            "Q62: gain 61.94653447722223\n",
            "S9: gain 59.13102988327999\n",
            "C18: gain 53.070429245112784\n",
            "Q5: gain 49.9228295685246\n",
            "C5: gain 49.442256924999995\n",
            "C10: gain 48.01174749447205\n",
            "78 variables have 0 performance gain after one iteration.\n"
          ],
          "name": "stdout"
        }
      ]
    },
    {
      "cell_type": "markdown",
      "metadata": {
        "id": "4N-dPQZupcY0"
      },
      "source": [
        "# Feature Gains and results\n",
        "\n",
        "XGBoost has acceptable results. The ROC and AUC show coherent behavior but the Positive Rate curve shows that there is difficulty in reducing the false positives and false negatives. We could try to incorporate these values into the loss function.\n",
        "\n",
        "The features analysis shows that the S columns have a weak impact on the performance of the model, compared to the C and Q columns. This could perhaps imply that the proposed aids have little impact compared to the actual description of the client and the client's behavioral habits."
      ]
    },
    {
      "cell_type": "markdown",
      "metadata": {
        "id": "My56YNEzt6Vc"
      },
      "source": [
        "# Random Forests\n",
        "\n",
        "Random Forests is a baggin model whereby each tree is trained on a subset of the training set (random sampling with replacement). Each node then searches for the best feature within a small random subset of features which adds more randomness. Each iteration typically uses $\\sqrt N$ features.\n",
        "\n",
        "## Adjust data for Forest models\n",
        "\n",
        "Forest models do not deal with Nan values very well.\n",
        "There are many ways to deal with Nans: \n",
        " - we can use the median value of a single feature and attribute Nans to that value.\n",
        " - On large data sets with many features, we can use kNN imputation to deal with Nan values.\n",
        " - Lastly, we can remove variables with over 50% missing values."
      ]
    },
    {
      "cell_type": "code",
      "metadata": {
        "id": "eKQDMuQdWaHX"
      },
      "source": [
        "from sklearn.ensemble import RandomForestClassifier\n",
        "from sklearn.preprocessing import Normalizer\n",
        "from sklearn.decomposition import PCA\n",
        "\n",
        "\n",
        "imputer = SimpleImputer(strategy=\"median\")\n",
        "normalizer = Normalizer()\n",
        "\n",
        "X_train_imp = imputer.fit_transform(X_train)\n",
        "X_test_imp = imputer.transform(X_test)\n",
        "\n",
        "nan_col_ids = [X.columns.get_loc(col_name) for col_name in X.columns[X.isnull().mean() > 0.5]]\n",
        "\n",
        "X_train_imp = np.delete(X_train_imp, nan_col_ids, axis=1)\n",
        "X_test_imp = np.delete(X_test_imp, nan_col_ids, axis=1)\n",
        "\n",
        "X_train_imp_norm = normalizer.fit_transform(X_train_imp)\n",
        "X_test_imp_norm = normalizer.transform(X_test_imp)\n",
        "\n",
        "pca = PCA()\n",
        "X_train_imp_norm_pca = pca.fit_transform(X_train_imp_norm)\n",
        "X_test_imp_norm_pca = pca.transform(X_test_imp_norm)"
      ],
      "execution_count": 16,
      "outputs": []
    },
    {
      "cell_type": "code",
      "metadata": {
        "colab": {
          "base_uri": "https://localhost:8080/"
        },
        "id": "oMJFwnyi0gps",
        "outputId": "d9032fed-53e1-4b32-901b-8673ff981aa3"
      },
      "source": [
        "classifier = RandomForestClassifier(n_estimators=350, max_depth=5, max_features=0.8, class_weight=\"balanced\", verbose=1)\n",
        "\n",
        "classifier.fit(X_train_imp, y_train)\n",
        "\n",
        "parameters = {\"n_estimators\": [200,250,300,350,400,450],\n",
        "              \"max_depth\": [4,5,6,7,8,9],\n",
        "              \"max_features\": [0.3, 0.5, 0.8]}\n",
        "\n",
        "rf_scv = RandomizedSearchCV(classifier, param_distributions=parameters, scoring=\"roc_auc\",\n",
        "                             cv=cv, verbose=3)\n",
        "#rf_scv.fit(X_train_imp, y_train)\n",
        "\n",
        "print_metrics(classifier, X_train_imp, y_train, X_test_imp, y_test)"
      ],
      "execution_count": null,
      "outputs": [
        {
          "output_type": "stream",
          "text": [
            "[Parallel(n_jobs=1)]: Using backend SequentialBackend with 1 concurrent workers.\n"
          ],
          "name": "stderr"
        }
      ]
    },
    {
      "cell_type": "markdown",
      "metadata": {
        "id": "1XXcr1Jjmubz"
      },
      "source": [
        "# ExtraTrees\n",
        "\n",
        "ExtraTrees is similar to Random Forest but differs mainly because there is no bootstrapping and the nodes are split randomly rather than finding the best split.\n",
        "Since many of the features are actually not very useful, we can increase the proportion of features used for splitting.\n",
        "PCA reduces performance just like with Random Forest."
      ]
    },
    {
      "cell_type": "code",
      "metadata": {
        "id": "rBaQgrbUkipc"
      },
      "source": [
        "from sklearn.ensemble import ExtraTreesClassifier #ExtraTrees\n",
        "\n",
        "classifier = ExtraTreesClassifier(n_estimators=400, max_depth=5, max_features=0.8, class_weight=\"balanced\", verbose=1)\n",
        "\n",
        "classifier.fit(X_train_imp,y_train)\n",
        "\n",
        "parameters = {\"n_estimators\": [200,250,300,350,400,450],\n",
        "              \"max_depth\": [4,5,6,7,8,9],\n",
        "              \"max_features\": [0.3, 0.5, 0.8]}\n",
        "\n",
        "et_scv = RandomizedSearchCV(classifier, param_distributions=parameters, scoring=\"roc_auc\", cv=cv, verbose=3)\n",
        "#et_scv.fit(X_train_imp, y_train)\n",
        "\n",
        "\n",
        "print_metrics(classifier, X_train_imp, y_train, X_test_imp, y_test)"
      ],
      "execution_count": null,
      "outputs": []
    },
    {
      "cell_type": "markdown",
      "metadata": {
        "id": "Zaqwzy_EXjU5"
      },
      "source": [
        "# Conclusions\n",
        "\n",
        "---\n",
        "\n",
        "XGBoost is a sequential model unlike Random Forest and Extra Trees. This means that each new tree draws characteristics from the last in order to reduce residual errors. All three work well to find the best bias-variance trade off since they combine decision trees which are high variance models. They are also robust against outliers.\n",
        "\n",
        "XGBoost does tend to overfit so Early Stopping and some hyperparameter tuning is necessary to prevent it from doing so. The other two methods do not overfit as much and present a stagnation in performance after 10 or so trees. We also note that XGBoost uses all the features while the non-boosting methods use maximum $\\sqrt N$ features. Random Forest and Extra Trees do not perform as well as XGBoost before overfitting occurs."
      ]
    }
  ]
}